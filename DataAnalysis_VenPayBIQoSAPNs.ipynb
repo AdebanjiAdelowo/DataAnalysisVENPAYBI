{
    "cells": [
        {
            "attachments": {},
            "cell_type": "markdown",
            "metadata": {
                "azdata_cell_guid": "8c1cf4fb-7f99-4f07-9664-1d1495bf117a",
                "language": "python"
            },
            "source": [
                "# N<span style=\"color: #99ffff;\">-</span>AND ITALIA <span style=\"color: #99ffff;\">-</span> ADEBANJI ADELOWO"
            ]
        },
        {
            "attachments": {},
            "cell_type": "markdown",
            "metadata": {
                "azdata_cell_guid": "2c3a6e33-5aec-4863-81ac-f4cbd3d055f7",
                "language": "python"
            },
            "source": [
                "## Working with the DataBase: VENPAYBI"
            ]
        },
        {
            "cell_type": "markdown",
            "metadata": {},
            "source": [
                "### The Table QoSAPNs"
            ]
        },
        {
            "cell_type": "code",
            "execution_count": 1,
            "metadata": {
                "azdata_cell_guid": "15fc9074-c16f-4a3c-acdd-7f3284f94f5e",
                "language": "python"
            },
            "outputs": [],
            "source": [
                "import os\n",
                "import sys\n",
                "import warnings\n",
                "warnings.filterwarnings('ignore')"
            ]
        },
        {
            "cell_type": "code",
            "execution_count": 2,
            "metadata": {},
            "outputs": [
                {
                    "data": {
                        "text/plain": [
                            "['SQL Server',\n",
                            " 'Microsoft Access Driver (*.mdb, *.accdb)',\n",
                            " 'Microsoft Excel Driver (*.xls, *.xlsx, *.xlsm, *.xlsb)',\n",
                            " 'Microsoft Access Text Driver (*.txt, *.csv)',\n",
                            " 'SQL Server Native Client RDA 11.0',\n",
                            " 'ODBC Driver 17 for SQL Server']"
                        ]
                    },
                    "execution_count": 2,
                    "metadata": {},
                    "output_type": "execute_result"
                }
            ],
            "source": [
                "import pyodbc\n",
                "pyodbc.drivers()"
            ]
        },
        {
            "attachments": {},
            "cell_type": "markdown",
            "metadata": {
                "azdata_cell_guid": "5121447d-3efb-4e59-ba7d-b1d914cbb7aa",
                "language": "python"
            },
            "source": [
                "First establish connection to the database using python"
            ]
        },
        {
            "cell_type": "code",
            "execution_count": 3,
            "metadata": {
                "azdata_cell_guid": "e9fc3837-b044-4902-8cee-d2badf7d5b58",
                "language": "python"
            },
            "outputs": [],
            "source": [
                "import pandas as pd\n",
                "import matplotlib.pyplot as plt\n",
                "\n",
                "\n",
                "# server = 'localhost\\sqlexpress' # for a named instance\n",
                "# server = 'myserver,port' # to specify an alternate port\n",
                "server = 'vpay-asdmi.public.21203d2a181c.database.windows.net,3342' \n",
                "database = 'VENPAY-BI' \n",
                "username = 'nandaa' \n",
                "password = 'Timileyin1998'  \n",
                "\n",
                "engine = pyodbc.connect('DRIVER={SQL Server};SERVER='+server+';DATABASE='+database+';UID='+username+';PWD='+ password)\n",
                "cursor = engine.cursor()"
            ]
        },
        {
            "cell_type": "code",
            "execution_count": 4,
            "metadata": {
                "azdata_cell_guid": "1fd8351e-9d5c-4139-a58e-6b6feb9e3e2a",
                "language": "python"
            },
            "outputs": [
                {
                    "data": {
                        "text/html": [
                            "<div>\n",
                            "<style scoped>\n",
                            "    .dataframe tbody tr th:only-of-type {\n",
                            "        vertical-align: middle;\n",
                            "    }\n",
                            "\n",
                            "    .dataframe tbody tr th {\n",
                            "        vertical-align: top;\n",
                            "    }\n",
                            "\n",
                            "    .dataframe thead th {\n",
                            "        text-align: right;\n",
                            "    }\n",
                            "</style>\n",
                            "<table border=\"1\" class=\"dataframe\">\n",
                            "  <thead>\n",
                            "    <tr style=\"text-align: right;\">\n",
                            "      <th></th>\n",
                            "      <th>EK_APNId</th>\n",
                            "      <th>LastUpdate</th>\n",
                            "      <th>ApnName</th>\n",
                            "      <th>InstantQuality</th>\n",
                            "      <th>LastHourQuality</th>\n",
                            "      <th>LastDayQuality</th>\n",
                            "    </tr>\n",
                            "  </thead>\n",
                            "  <tbody>\n",
                            "  </tbody>\n",
                            "</table>\n",
                            "</div>"
                        ],
                        "text/plain": [
                            "Empty DataFrame\n",
                            "Columns: [EK_APNId, LastUpdate, ApnName, InstantQuality, LastHourQuality, LastDayQuality]\n",
                            "Index: []"
                        ]
                    },
                    "execution_count": 4,
                    "metadata": {},
                    "output_type": "execute_result"
                }
            ],
            "source": [
                "\n",
                "sql = \"\"\"\n",
                "  SELECT TOP (1000) [EK_APNId]\n",
                "      ,[LastUpdate]\n",
                "      ,[ApnName]\n",
                "      ,[InstantQuality]\n",
                "      ,[LastHourQuality]\n",
                "      ,[LastDayQuality]\n",
                "  FROM [VENPAY-BI].[dbo].[QoSAPNs]\n",
                "\"\"\"\n",
                "\n",
                "df_coffee1 = pd.read_sql(sql, engine)\n",
                "df_coffee1.head()"
            ]
        },
        {
            "cell_type": "code",
            "execution_count": 5,
            "metadata": {},
            "outputs": [
                {
                    "data": {
                        "text/plain": [
                            "Index(['EK_APNId', 'LastUpdate', 'ApnName', 'InstantQuality',\n",
                            "       'LastHourQuality', 'LastDayQuality'],\n",
                            "      dtype='object')"
                        ]
                    },
                    "execution_count": 5,
                    "metadata": {},
                    "output_type": "execute_result"
                }
            ],
            "source": [
                "df_coffee1.columns"
            ]
        }
    ],
    "metadata": {
        "kernelspec": {
            "display_name": "Python 3 (ipykernel)",
            "language": "python",
            "name": "python3"
        },
        "language_info": {
            "codemirror_mode": {
                "name": "ipython",
                "version": 3
            },
            "file_extension": ".py",
            "mimetype": "text/x-python",
            "name": "python",
            "nbconvert_exporter": "python",
            "pygments_lexer": "ipython3",
            "version": "3.10.9"
        }
    },
    "nbformat": 4,
    "nbformat_minor": 2
}
