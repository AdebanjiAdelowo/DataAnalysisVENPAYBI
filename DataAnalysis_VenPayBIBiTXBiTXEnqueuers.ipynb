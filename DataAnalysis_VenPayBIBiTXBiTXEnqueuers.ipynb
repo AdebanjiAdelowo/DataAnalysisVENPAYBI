{
    "cells": [
        {
            "attachments": {},
            "cell_type": "markdown",
            "metadata": {
                "azdata_cell_guid": "2c3a6e33-5aec-4863-81ac-f4cbd3d055f7",
                "language": "python"
            },
            "source": [
                "## Working with the DataBase: VENPAYBI"
            ]
        },
        {
            "cell_type": "markdown",
            "metadata": {},
            "source": [
                "### The Table BiTXEnqueuers"
            ]
        },
        {
            "cell_type": "code",
            "execution_count": 1,
            "metadata": {
                "azdata_cell_guid": "15fc9074-c16f-4a3c-acdd-7f3284f94f5e",
                "language": "python"
            },
            "outputs": [],
            "source": [
                "import os\n",
                "import sys\n",
                "import warnings\n",
                "warnings.filterwarnings('ignore')\n",
                "\n",
                "sys.path.insert(1, r'C:\\Users\\AdebanjiAdelowo\\OneDrive - N-and Group Ltd\\Documents\\N-ANDITALIA\\Private')\n",
                "import securitydetail"
            ]
        },
        {
            "cell_type": "code",
            "execution_count": 2,
            "metadata": {},
            "outputs": [
                {
                    "data": {
                        "text/plain": [
                            "['SQL Server',\n",
                            " 'Microsoft Access Driver (*.mdb, *.accdb)',\n",
                            " 'Microsoft Excel Driver (*.xls, *.xlsx, *.xlsm, *.xlsb)',\n",
                            " 'Microsoft Access Text Driver (*.txt, *.csv)',\n",
                            " 'SQL Server Native Client RDA 11.0',\n",
                            " 'ODBC Driver 17 for SQL Server']"
                        ]
                    },
                    "execution_count": 2,
                    "metadata": {},
                    "output_type": "execute_result"
                }
            ],
            "source": [
                "import pyodbc\n",
                "pyodbc.drivers()"
            ]
        },
        {
            "attachments": {},
            "cell_type": "markdown",
            "metadata": {
                "azdata_cell_guid": "5121447d-3efb-4e59-ba7d-b1d914cbb7aa",
                "language": "python"
            },
            "source": [
                "First establish connection to the database using python"
            ]
        },
        {
            "cell_type": "code",
            "execution_count": 3,
            "metadata": {
                "azdata_cell_guid": "e9fc3837-b044-4902-8cee-d2badf7d5b58",
                "language": "python"
            },
            "outputs": [],
            "source": [
                "import pandas as pd\n",
                "import matplotlib.pyplot as plt\n",
                "\n",
                "\n",
                "# server = 'localhost\\sqlexpress' # for a named instance\n",
                "# server = 'myserver,port' # to specify an alternate port\n",
                "server =  securitydetail.server\n",
                "database =  securitydetail.database \n",
                "username = securitydetail.username\n",
                "password = securitydetail.password    \n",
                "\n",
                "engine = pyodbc.connect('DRIVER={SQL Server};SERVER='+server+';DATABASE='+database+';UID='+username+';PWD='+ password)\n",
                "cursor = engine.cursor()"
            ]
        },
        {
            "cell_type": "code",
            "execution_count": 4,
            "metadata": {
                "azdata_cell_guid": "ae327dca-4640-4a09-a2e1-d9ff9f6356d9",
                "language": "python"
            },
            "outputs": [
                {
                    "data": {
                        "text/html": [
                            "<div>\n",
                            "<style scoped>\n",
                            "    .dataframe tbody tr th:only-of-type {\n",
                            "        vertical-align: middle;\n",
                            "    }\n",
                            "\n",
                            "    .dataframe tbody tr th {\n",
                            "        vertical-align: top;\n",
                            "    }\n",
                            "\n",
                            "    .dataframe thead th {\n",
                            "        text-align: right;\n",
                            "    }\n",
                            "</style>\n",
                            "<table border=\"1\" class=\"dataframe\">\n",
                            "  <thead>\n",
                            "    <tr style=\"text-align: right;\">\n",
                            "      <th></th>\n",
                            "      <th>PK_BiTXEnqueuerId</th>\n",
                            "      <th>Hostname</th>\n",
                            "      <th>EnqueuerName</th>\n",
                            "      <th>QueueName</th>\n",
                            "      <th>LastKpi</th>\n",
                            "    </tr>\n",
                            "  </thead>\n",
                            "  <tbody>\n",
                            "    <tr>\n",
                            "      <th>0</th>\n",
                            "      <td>2</td>\n",
                            "      <td>conn01</td>\n",
                            "      <td>BiTXSQSEn1</td>\n",
                            "      <td>Demobitx_Test</td>\n",
                            "      <td>2023-07-27 15:40:00</td>\n",
                            "    </tr>\n",
                            "    <tr>\n",
                            "      <th>1</th>\n",
                            "      <td>3</td>\n",
                            "      <td>conn01</td>\n",
                            "      <td>BiTXSQSEn1</td>\n",
                            "      <td>VegaSQS_DAI</td>\n",
                            "      <td>2023-07-27 15:40:00</td>\n",
                            "    </tr>\n",
                            "    <tr>\n",
                            "      <th>2</th>\n",
                            "      <td>4</td>\n",
                            "      <td>conn01</td>\n",
                            "      <td>BiTXSQSEn1</td>\n",
                            "      <td>VegaSQS_EOS</td>\n",
                            "      <td>2023-07-27 15:40:00</td>\n",
                            "    </tr>\n",
                            "    <tr>\n",
                            "      <th>3</th>\n",
                            "      <td>5</td>\n",
                            "      <td>conn01</td>\n",
                            "      <td>BiTXSQSEn1</td>\n",
                            "      <td>VegaSQS_GESAIVSItalia_0</td>\n",
                            "      <td>2023-01-24 12:50:00</td>\n",
                            "    </tr>\n",
                            "    <tr>\n",
                            "      <th>4</th>\n",
                            "      <td>6</td>\n",
                            "      <td>conn01</td>\n",
                            "      <td>BiTXSQSEn1</td>\n",
                            "      <td>VegaSQS_LIOMATIC</td>\n",
                            "      <td>2023-07-27 15:40:00</td>\n",
                            "    </tr>\n",
                            "  </tbody>\n",
                            "</table>\n",
                            "</div>"
                        ],
                        "text/plain": [
                            "   PK_BiTXEnqueuerId Hostname EnqueuerName                QueueName  \\\n",
                            "0                  2   conn01   BiTXSQSEn1            Demobitx_Test   \n",
                            "1                  3   conn01   BiTXSQSEn1              VegaSQS_DAI   \n",
                            "2                  4   conn01   BiTXSQSEn1              VegaSQS_EOS   \n",
                            "3                  5   conn01   BiTXSQSEn1  VegaSQS_GESAIVSItalia_0   \n",
                            "4                  6   conn01   BiTXSQSEn1         VegaSQS_LIOMATIC   \n",
                            "\n",
                            "              LastKpi  \n",
                            "0 2023-07-27 15:40:00  \n",
                            "1 2023-07-27 15:40:00  \n",
                            "2 2023-07-27 15:40:00  \n",
                            "3 2023-01-24 12:50:00  \n",
                            "4 2023-07-27 15:40:00  "
                        ]
                    },
                    "execution_count": 4,
                    "metadata": {},
                    "output_type": "execute_result"
                }
            ],
            "source": [
                "query = \"\"\"\n",
                "        SELECT TOP (1000) [PK_BiTXEnqueuerId]\n",
                "      ,[Hostname]\n",
                "      ,[EnqueuerName]\n",
                "      ,[QueueName]\n",
                "      ,[LastKpi]\n",
                "        FROM [VENPAY-BI].[dbo].[BiTXEnqueuers]\n",
                "\"\"\"\n",
                "\n",
                "df_bitx = pd.read_sql(query, engine)\n",
                "df_bitx.head()"
            ]
        }
    ],
    "metadata": {
        "kernelspec": {
            "display_name": "Python 3 (ipykernel)",
            "language": "python",
            "name": "python3"
        },
        "language_info": {
            "codemirror_mode": {
                "name": "ipython",
                "version": 3
            },
            "file_extension": ".py",
            "mimetype": "text/x-python",
            "name": "python",
            "nbconvert_exporter": "python",
            "pygments_lexer": "ipython3",
            "version": "3.10.9"
        }
    },
    "nbformat": 4,
    "nbformat_minor": 2
}
