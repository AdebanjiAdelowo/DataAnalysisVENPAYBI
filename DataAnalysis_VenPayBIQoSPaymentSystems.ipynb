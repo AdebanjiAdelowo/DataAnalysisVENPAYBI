{
    "cells": [
        {
            "attachments": {},
            "cell_type": "markdown",
            "metadata": {
                "azdata_cell_guid": "2c3a6e33-5aec-4863-81ac-f4cbd3d055f7",
                "language": "python"
            },
            "source": [
                "## Working with the DataBase: VENPAYBI"
            ]
        },
        {
            "cell_type": "markdown",
            "metadata": {},
            "source": [
                "### The Table QoSPaymentSystems"
            ]
        },
        {
            "cell_type": "code",
            "execution_count": 1,
            "metadata": {
                "azdata_cell_guid": "15fc9074-c16f-4a3c-acdd-7f3284f94f5e",
                "language": "python"
            },
            "outputs": [],
            "source": [
                "import os\n",
                "import sys\n",
                "import warnings\n",
                "warnings.filterwarnings('ignore')"
            ]
        },
        {
            "cell_type": "code",
            "execution_count": 2,
            "metadata": {},
            "outputs": [
                {
                    "data": {
                        "text/plain": [
                            "['SQL Server',\n",
                            " 'Microsoft Access Driver (*.mdb, *.accdb)',\n",
                            " 'Microsoft Excel Driver (*.xls, *.xlsx, *.xlsm, *.xlsb)',\n",
                            " 'Microsoft Access Text Driver (*.txt, *.csv)',\n",
                            " 'SQL Server Native Client RDA 11.0',\n",
                            " 'ODBC Driver 17 for SQL Server']"
                        ]
                    },
                    "execution_count": 2,
                    "metadata": {},
                    "output_type": "execute_result"
                }
            ],
            "source": [
                "import pyodbc\n",
                "pyodbc.drivers()"
            ]
        },
        {
            "attachments": {},
            "cell_type": "markdown",
            "metadata": {
                "azdata_cell_guid": "5121447d-3efb-4e59-ba7d-b1d914cbb7aa",
                "language": "python"
            },
            "source": [
                "First establish connection to the database using python"
            ]
        },
        {
            "cell_type": "code",
            "execution_count": 3,
            "metadata": {
                "azdata_cell_guid": "e9fc3837-b044-4902-8cee-d2badf7d5b58",
                "language": "python"
            },
            "outputs": [],
            "source": [
                "import pandas as pd\n",
                "import matplotlib.pyplot as plt\n",
                "\n",
                "\n",
                "# server = 'localhost\\sqlexpress' # for a named instance\n",
                "# server = 'myserver,port' # to specify an alternate port\n",
                "server = 'vpay-asdmi.public.21203d2a181c.database.windows.net,3342' \n",
                "database = 'VENPAY-BI' \n",
                "username = 'nandaa' \n",
                "password = 'Timileyin1998'  \n",
                "\n",
                "engine = pyodbc.connect('DRIVER={SQL Server};SERVER='+server+';DATABASE='+database+';UID='+username+';PWD='+ password)\n",
                "cursor = engine.cursor()"
            ]
        },
        {
            "cell_type": "code",
            "execution_count": 4,
            "metadata": {
                "azdata_cell_guid": "6132f44c-a1ae-4940-a421-355b176e2bb2",
                "language": "python"
            },
            "outputs": [
                {
                    "data": {
                        "text/html": [
                            "<div>\n",
                            "<style scoped>\n",
                            "    .dataframe tbody tr th:only-of-type {\n",
                            "        vertical-align: middle;\n",
                            "    }\n",
                            "\n",
                            "    .dataframe tbody tr th {\n",
                            "        vertical-align: top;\n",
                            "    }\n",
                            "\n",
                            "    .dataframe thead th {\n",
                            "        text-align: right;\n",
                            "    }\n",
                            "</style>\n",
                            "<table border=\"1\" class=\"dataframe\">\n",
                            "  <thead>\n",
                            "    <tr style=\"text-align: right;\">\n",
                            "      <th></th>\n",
                            "      <th>EK_PaymentSystemTypeId</th>\n",
                            "      <th>LastUpdate</th>\n",
                            "      <th>PaymentSystemTypeName</th>\n",
                            "      <th>InstantQuality</th>\n",
                            "      <th>LastHourQuality</th>\n",
                            "      <th>LastDayQuality</th>\n",
                            "    </tr>\n",
                            "  </thead>\n",
                            "  <tbody>\n",
                            "  </tbody>\n",
                            "</table>\n",
                            "</div>"
                        ],
                        "text/plain": [
                            "Empty DataFrame\n",
                            "Columns: [EK_PaymentSystemTypeId, LastUpdate, PaymentSystemTypeName, InstantQuality, LastHourQuality, LastDayQuality]\n",
                            "Index: []"
                        ]
                    },
                    "execution_count": 4,
                    "metadata": {},
                    "output_type": "execute_result"
                }
            ],
            "source": [
                "query = \"\"\"\n",
                "        SELECT TOP (1000) [EK_PaymentSystemTypeId]\n",
                "      ,[LastUpdate]\n",
                "      ,[PaymentSystemTypeName]\n",
                "      ,[InstantQuality]\n",
                "      ,[LastHourQuality]\n",
                "      ,[LastDayQuality]\n",
                "        FROM [VENPAY-BI].[dbo].[QoSPaymentSystems]\n",
                "\"\"\"\n",
                "\n",
                "df_coffee4 = pd.read_sql(query, engine)\n",
                "df_coffee4.head()"
            ]
        }
    ],
    "metadata": {
        "kernelspec": {
            "display_name": "Python 3 (ipykernel)",
            "language": "python",
            "name": "python3"
        },
        "language_info": {
            "codemirror_mode": {
                "name": "ipython",
                "version": 3
            },
            "file_extension": ".py",
            "mimetype": "text/x-python",
            "name": "python",
            "nbconvert_exporter": "python",
            "pygments_lexer": "ipython3",
            "version": "3.10.9"
        }
    },
    "nbformat": 4,
    "nbformat_minor": 2
}
